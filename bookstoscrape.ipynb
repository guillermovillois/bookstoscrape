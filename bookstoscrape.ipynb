{
 "metadata": {
  "language_info": {
   "codemirror_mode": {
    "name": "ipython",
    "version": 3
   },
   "file_extension": ".py",
   "mimetype": "text/x-python",
   "name": "python",
   "nbconvert_exporter": "python",
   "pygments_lexer": "ipython3",
   "version": "3.7.4-final"
  },
  "orig_nbformat": 2,
  "kernelspec": {
   "name": "Python 3.7.4 32-bit",
   "display_name": "Python 3.7.4 32-bit",
   "metadata": {
    "interpreter": {
     "hash": "903d9dd3b1fd1548a3d437428b52c93b300cf7d71118f1ccfbccba5a57cca076"
    }
   }
  }
 },
 "nbformat": 4,
 "nbformat_minor": 2,
 "cells": [
  {
   "cell_type": "code",
   "execution_count": 4,
   "metadata": {},
   "outputs": [],
   "source": [
    "import requests\n",
    "from bs4 import BeautifulSoup\n",
    "import pandas as pd"
   ]
  },
  {
   "cell_type": "code",
   "execution_count": 24,
   "metadata": {},
   "outputs": [],
   "source": [
    "pages =[]\n",
    "prices = []\n",
    "stars = []\n",
    "titles = []\n",
    "stock=[]\n",
    "pages_to_scrape = 1"
   ]
  },
  {
   "cell_type": "code",
   "execution_count": 25,
   "metadata": {},
   "outputs": [],
   "source": [
    "new_url = 'http://books.toscrape.com/'"
   ]
  },
  {
   "cell_type": "code",
   "execution_count": 12,
   "metadata": {},
   "outputs": [],
   "source": [
    "div = soup.find(\"ol\", class_=\"row\").findAll('li')"
   ]
  },
  {
   "cell_type": "code",
   "execution_count": 26,
   "metadata": {
    "tags": []
   },
   "outputs": [
    {
     "output_type": "stream",
     "name": "stdout",
     "text": "http://books.toscrape.com/\nhttp://books.toscrape.com/\nhttp://books.toscrape.com/catalogue/page-2.html\nhttp://books.toscrape.com/catalogue/page-2.html\nhttp://books.toscrape.com/catalogue/page-3.html\nhttp://books.toscrape.com/catalogue/page-3.html\nhttp://books.toscrape.com/catalogue/page-4.html\nhttp://books.toscrape.com/catalogue/page-4.html\nhttp://books.toscrape.com/catalogue/page-5.html\nhttp://books.toscrape.com/catalogue/page-5.html\nhttp://books.toscrape.com/catalogue/page-6.html\nhttp://books.toscrape.com/catalogue/page-6.html\nhttp://books.toscrape.com/catalogue/page-7.html\nhttp://books.toscrape.com/catalogue/page-7.html\nhttp://books.toscrape.com/catalogue/page-8.html\nhttp://books.toscrape.com/catalogue/page-8.html\nhttp://books.toscrape.com/catalogue/page-9.html\nhttp://books.toscrape.com/catalogue/page-9.html\nhttp://books.toscrape.com/catalogue/page-10.html\nhttp://books.toscrape.com/catalogue/page-10.html\nhttp://books.toscrape.com/catalogue/page-11.html\nhttp://books.toscrape.com/catalogue/page-11.html\nhttp://books.toscrape.com/catalogue/page-12.html\nhttp://books.toscrape.com/catalogue/page-12.html\nhttp://books.toscrape.com/catalogue/page-13.html\nhttp://books.toscrape.com/catalogue/page-13.html\nhttp://books.toscrape.com/catalogue/page-14.html\nhttp://books.toscrape.com/catalogue/page-14.html\nhttp://books.toscrape.com/catalogue/page-15.html\nhttp://books.toscrape.com/catalogue/page-15.html\nhttp://books.toscrape.com/catalogue/page-16.html\nhttp://books.toscrape.com/catalogue/page-16.html\nhttp://books.toscrape.com/catalogue/page-17.html\nhttp://books.toscrape.com/catalogue/page-17.html\nhttp://books.toscrape.com/catalogue/page-18.html\nhttp://books.toscrape.com/catalogue/page-18.html\nhttp://books.toscrape.com/catalogue/page-19.html\nhttp://books.toscrape.com/catalogue/page-19.html\nhttp://books.toscrape.com/catalogue/page-20.html\nhttp://books.toscrape.com/catalogue/page-20.html\nhttp://books.toscrape.com/catalogue/page-21.html\nhttp://books.toscrape.com/catalogue/page-21.html\nhttp://books.toscrape.com/catalogue/page-22.html\nhttp://books.toscrape.com/catalogue/page-22.html\nhttp://books.toscrape.com/catalogue/page-23.html\nhttp://books.toscrape.com/catalogue/page-23.html\nhttp://books.toscrape.com/catalogue/page-24.html\nhttp://books.toscrape.com/catalogue/page-24.html\nhttp://books.toscrape.com/catalogue/page-25.html\nhttp://books.toscrape.com/catalogue/page-25.html\nhttp://books.toscrape.com/catalogue/page-26.html\nhttp://books.toscrape.com/catalogue/page-26.html\nhttp://books.toscrape.com/catalogue/page-27.html\nhttp://books.toscrape.com/catalogue/page-27.html\nhttp://books.toscrape.com/catalogue/page-28.html\nhttp://books.toscrape.com/catalogue/page-28.html\nhttp://books.toscrape.com/catalogue/page-29.html\nhttp://books.toscrape.com/catalogue/page-29.html\nhttp://books.toscrape.com/catalogue/page-30.html\nhttp://books.toscrape.com/catalogue/page-30.html\nhttp://books.toscrape.com/catalogue/page-31.html\nhttp://books.toscrape.com/catalogue/page-31.html\nhttp://books.toscrape.com/catalogue/page-32.html\nhttp://books.toscrape.com/catalogue/page-32.html\nhttp://books.toscrape.com/catalogue/page-33.html\nhttp://books.toscrape.com/catalogue/page-33.html\nhttp://books.toscrape.com/catalogue/page-34.html\nhttp://books.toscrape.com/catalogue/page-34.html\nhttp://books.toscrape.com/catalogue/page-35.html\nhttp://books.toscrape.com/catalogue/page-35.html\nhttp://books.toscrape.com/catalogue/page-36.html\nhttp://books.toscrape.com/catalogue/page-36.html\nhttp://books.toscrape.com/catalogue/page-37.html\nhttp://books.toscrape.com/catalogue/page-37.html\nhttp://books.toscrape.com/catalogue/page-38.html\nhttp://books.toscrape.com/catalogue/page-38.html\nhttp://books.toscrape.com/catalogue/page-39.html\nhttp://books.toscrape.com/catalogue/page-39.html\nhttp://books.toscrape.com/catalogue/page-40.html\nhttp://books.toscrape.com/catalogue/page-40.html\nhttp://books.toscrape.com/catalogue/page-41.html\nhttp://books.toscrape.com/catalogue/page-41.html\nhttp://books.toscrape.com/catalogue/page-42.html\nhttp://books.toscrape.com/catalogue/page-42.html\nhttp://books.toscrape.com/catalogue/page-43.html\nhttp://books.toscrape.com/catalogue/page-43.html\nhttp://books.toscrape.com/catalogue/page-44.html\nhttp://books.toscrape.com/catalogue/page-44.html\nhttp://books.toscrape.com/catalogue/page-45.html\nhttp://books.toscrape.com/catalogue/page-45.html\nhttp://books.toscrape.com/catalogue/page-46.html\nhttp://books.toscrape.com/catalogue/page-46.html\nhttp://books.toscrape.com/catalogue/page-47.html\nhttp://books.toscrape.com/catalogue/page-47.html\nhttp://books.toscrape.com/catalogue/page-48.html\nhttp://books.toscrape.com/catalogue/page-48.html\nhttp://books.toscrape.com/catalogue/page-49.html\nhttp://books.toscrape.com/catalogue/page-49.html\nhttp://books.toscrape.com/catalogue/page-50.html\nhttp://books.toscrape.com/catalogue/page-50.html\n"
    }
   ],
   "source": [
    "\n",
    "#new_url = 'http://books.toscrape.com/' +soup.find(\"li\", class_=\"next\").find('a').get('href')\n",
    "while new_url !='':\n",
    "    source = requests.get(new_url).text\n",
    "    soup = BeautifulSoup(source, \"lxml\")\n",
    "    print(new_url)\n",
    "    for each in soup.find(\"ol\", class_=\"row\").findAll('li'):\n",
    "        prices.append(each.find('p', class_='price_color').text.split('£')[1].strip())\n",
    "        stock.append(each.find('p', class_='instock availability').text.strip())\n",
    "        titles.append(each.find('h3').text.strip())\n",
    "        stars.append(each.find('p').get('class')[1])\n",
    "    print(new_url)\n",
    "    try:\n",
    "        sopa = BeautifulSoup(source, \"lxml\").find(\"li\", class_=\"next\").find('a').get('href')\n",
    "        if new_url =='http://books.toscrape.com/':\n",
    "            new_url = 'http://books.toscrape.com/' + sopa\n",
    "        else:\n",
    "            new_url = 'http://books.toscrape.com/catalogue/' + sopa\n",
    "    except:\n",
    "        new_url = ''\n",
    "    "
   ]
  },
  {
   "cell_type": "code",
   "execution_count": 30,
   "metadata": {
    "tags": []
   },
   "outputs": [],
   "source": [
    "data={'titles':titles, 'prices':prices, 'stars':stars,'stock':stock}"
   ]
  },
  {
   "cell_type": "code",
   "execution_count": 34,
   "metadata": {},
   "outputs": [
    {
     "output_type": "execute_result",
     "data": {
      "text/plain": "                                 titles prices stars     stock\n638          An Abundance of Katherines  10.00  Five  In stock\n302                Greek Mythic History  10.23  Five  In stock\n590      The Power Greens Cookbook: ...  11.05  Five  In stock\n316                  Dear Mr. Knightley  11.21  Five  In stock\n601                 The Darkest Corners  11.33  Five  In stock\n..                                  ...    ...   ...       ...\n631                    Digital Fortress  58.00  Five  In stock\n379              How to Speak Golf: ...  58.32  Five  In stock\n637  Approval Junkie: Adventures in ...  58.81  Five  In stock\n812               Life Without a Recipe  59.04  Five  In stock\n560      The Barefoot Contessa Cookbook  59.92  Five  In stock\n\n[196 rows x 4 columns]",
      "text/html": "<div>\n<style scoped>\n    .dataframe tbody tr th:only-of-type {\n        vertical-align: middle;\n    }\n\n    .dataframe tbody tr th {\n        vertical-align: top;\n    }\n\n    .dataframe thead th {\n        text-align: right;\n    }\n</style>\n<table border=\"1\" class=\"dataframe\">\n  <thead>\n    <tr style=\"text-align: right;\">\n      <th></th>\n      <th>titles</th>\n      <th>prices</th>\n      <th>stars</th>\n      <th>stock</th>\n    </tr>\n  </thead>\n  <tbody>\n    <tr>\n      <td>638</td>\n      <td>An Abundance of Katherines</td>\n      <td>10.00</td>\n      <td>Five</td>\n      <td>In stock</td>\n    </tr>\n    <tr>\n      <td>302</td>\n      <td>Greek Mythic History</td>\n      <td>10.23</td>\n      <td>Five</td>\n      <td>In stock</td>\n    </tr>\n    <tr>\n      <td>590</td>\n      <td>The Power Greens Cookbook: ...</td>\n      <td>11.05</td>\n      <td>Five</td>\n      <td>In stock</td>\n    </tr>\n    <tr>\n      <td>316</td>\n      <td>Dear Mr. Knightley</td>\n      <td>11.21</td>\n      <td>Five</td>\n      <td>In stock</td>\n    </tr>\n    <tr>\n      <td>601</td>\n      <td>The Darkest Corners</td>\n      <td>11.33</td>\n      <td>Five</td>\n      <td>In stock</td>\n    </tr>\n    <tr>\n      <td>...</td>\n      <td>...</td>\n      <td>...</td>\n      <td>...</td>\n      <td>...</td>\n    </tr>\n    <tr>\n      <td>631</td>\n      <td>Digital Fortress</td>\n      <td>58.00</td>\n      <td>Five</td>\n      <td>In stock</td>\n    </tr>\n    <tr>\n      <td>379</td>\n      <td>How to Speak Golf: ...</td>\n      <td>58.32</td>\n      <td>Five</td>\n      <td>In stock</td>\n    </tr>\n    <tr>\n      <td>637</td>\n      <td>Approval Junkie: Adventures in ...</td>\n      <td>58.81</td>\n      <td>Five</td>\n      <td>In stock</td>\n    </tr>\n    <tr>\n      <td>812</td>\n      <td>Life Without a Recipe</td>\n      <td>59.04</td>\n      <td>Five</td>\n      <td>In stock</td>\n    </tr>\n    <tr>\n      <td>560</td>\n      <td>The Barefoot Contessa Cookbook</td>\n      <td>59.92</td>\n      <td>Five</td>\n      <td>In stock</td>\n    </tr>\n  </tbody>\n</table>\n<p>196 rows × 4 columns</p>\n</div>"
     },
     "metadata": {},
     "execution_count": 34
    }
   ],
   "source": [
    "data= pd.DataFrame(data)\n",
    "data[data.stars=='Five'].sort_values('prices')"
   ]
  },
  {
   "cell_type": "code",
   "execution_count": 53,
   "metadata": {},
   "outputs": [],
   "source": [
    "new_url = soup.find(\"li\", class_=\"next\").find('a').get('href')"
   ]
  },
  {
   "cell_type": "code",
   "execution_count": 55,
   "metadata": {
    "tags": []
   },
   "outputs": [
    {
     "output_type": "stream",
     "name": "stdout",
     "text": "http://books.toscrape.com/catalogue/page-2.html\n"
    }
   ],
   "source": [
    "print(url +new_url)"
   ]
  },
  {
   "cell_type": "code",
   "execution_count": 70,
   "metadata": {
    "tags": []
   },
   "outputs": [
    {
     "output_type": "stream",
     "name": "stdout",
     "text": "http://books.toscrape.com/catalogue/page-2.html\nhttp://books.toscrape.com/catalogue/page-3.html\nhttp://books.toscrape.com/catalogue/page-4.html\nhttp://books.toscrape.com/catalogue/page-5.html\nhttp://books.toscrape.com/catalogue/page-6.html\nhttp://books.toscrape.com/catalogue/page-7.html\nhttp://books.toscrape.com/catalogue/page-8.html\nhttp://books.toscrape.com/catalogue/page-9.html\nhttp://books.toscrape.com/catalogue/page-10.html\nhttp://books.toscrape.com/catalogue/page-11.html\nhttp://books.toscrape.com/catalogue/page-12.html\nhttp://books.toscrape.com/catalogue/page-13.html\nhttp://books.toscrape.com/catalogue/page-14.html\nhttp://books.toscrape.com/catalogue/page-15.html\nhttp://books.toscrape.com/catalogue/page-16.html\nhttp://books.toscrape.com/catalogue/page-17.html\nhttp://books.toscrape.com/catalogue/page-18.html\nhttp://books.toscrape.com/catalogue/page-19.html\nhttp://books.toscrape.com/catalogue/page-20.html\nhttp://books.toscrape.com/catalogue/page-21.html\nhttp://books.toscrape.com/catalogue/page-22.html\nhttp://books.toscrape.com/catalogue/page-23.html\nhttp://books.toscrape.com/catalogue/page-24.html\nhttp://books.toscrape.com/catalogue/page-25.html\nhttp://books.toscrape.com/catalogue/page-26.html\nhttp://books.toscrape.com/catalogue/page-27.html\nhttp://books.toscrape.com/catalogue/page-28.html\nhttp://books.toscrape.com/catalogue/page-29.html\nhttp://books.toscrape.com/catalogue/page-30.html\nhttp://books.toscrape.com/catalogue/page-31.html\nhttp://books.toscrape.com/catalogue/page-32.html\nhttp://books.toscrape.com/catalogue/page-33.html\nhttp://books.toscrape.com/catalogue/page-34.html\nhttp://books.toscrape.com/catalogue/page-35.html\nhttp://books.toscrape.com/catalogue/page-36.html\nhttp://books.toscrape.com/catalogue/page-37.html\nhttp://books.toscrape.com/catalogue/page-38.html\nhttp://books.toscrape.com/catalogue/page-39.html\nhttp://books.toscrape.com/catalogue/page-40.html\nhttp://books.toscrape.com/catalogue/page-41.html\nhttp://books.toscrape.com/catalogue/page-42.html\nhttp://books.toscrape.com/catalogue/page-43.html\nhttp://books.toscrape.com/catalogue/page-44.html\nhttp://books.toscrape.com/catalogue/page-45.html\nhttp://books.toscrape.com/catalogue/page-46.html\nhttp://books.toscrape.com/catalogue/page-47.html\nhttp://books.toscrape.com/catalogue/page-48.html\nhttp://books.toscrape.com/catalogue/page-49.html\nhttp://books.toscrape.com/catalogue/page-50.html\nhttp://books.toscrape.com/catalogue/page-50.html\nhttp://books.toscrape.com/catalogue/page-50.html\nhttp://books.toscrape.com/catalogue/page-50.html\nhttp://books.toscrape.com/catalogue/page-50.html\nhttp://books.toscrape.com/catalogue/page-50.html\nhttp://books.toscrape.com/catalogue/page-50.html\nhttp://books.toscrape.com/catalogue/page-50.html\nhttp://books.toscrape.com/catalogue/page-50.html\nhttp://books.toscrape.com/catalogue/page-50.html\nhttp://books.toscrape.com/catalogue/page-50.html\nhttp://books.toscrape.com/catalogue/page-50.html\nhttp://books.toscrape.com/catalogue/page-50.html\nhttp://books.toscrape.com/catalogue/page-50.html\nhttp://books.toscrape.com/catalogue/page-50.html\nhttp://books.toscrape.com/catalogue/page-50.html\nhttp://books.toscrape.com/catalogue/page-50.html\nhttp://books.toscrape.com/catalogue/page-50.html\nhttp://books.toscrape.com/catalogue/page-50.html\nhttp://books.toscrape.com/catalogue/page-50.html\nhttp://books.toscrape.com/catalogue/page-50.html\nhttp://books.toscrape.com/catalogue/page-50.html\nhttp://books.toscrape.com/catalogue/page-50.html\nhttp://books.toscrape.com/catalogue/page-50.html\nhttp://books.toscrape.com/catalogue/page-50.html\nhttp://books.toscrape.com/catalogue/page-50.html\nhttp://books.toscrape.com/catalogue/page-50.html\nhttp://books.toscrape.com/catalogue/page-50.html\nhttp://books.toscrape.com/catalogue/page-50.html\nhttp://books.toscrape.com/catalogue/page-50.html\nhttp://books.toscrape.com/catalogue/page-50.html\nhttp://books.toscrape.com/catalogue/page-50.html\nhttp://books.toscrape.com/catalogue/page-50.html\nhttp://books.toscrape.com/catalogue/page-50.html\nhttp://books.toscrape.com/catalogue/page-50.html\nhttp://books.toscrape.com/catalogue/page-50.html\nhttp://books.toscrape.com/catalogue/page-50.html\nhttp://books.toscrape.com/catalogue/page-50.html\nhttp://books.toscrape.com/catalogue/page-50.html\nhttp://books.toscrape.com/catalogue/page-50.html\nhttp://books.toscrape.com/catalogue/page-50.html\nhttp://books.toscrape.com/catalogue/page-50.html\nhttp://books.toscrape.com/catalogue/page-50.html\nhttp://books.toscrape.com/catalogue/page-50.html\nhttp://books.toscrape.com/catalogue/page-50.html\nhttp://books.toscrape.com/catalogue/page-50.html\nhttp://books.toscrape.com/catalogue/page-50.html\nhttp://books.toscrape.com/catalogue/page-50.html\nhttp://books.toscrape.com/catalogue/page-50.html\nhttp://books.toscrape.com/catalogue/page-50.html\nhttp://books.toscrape.com/catalogue/page-50.html\nhttp://books.toscrape.com/catalogue/page-50.html\nhttp://books.toscrape.com/catalogue/page-50.html\nhttp://books.toscrape.com/catalogue/page-50.html\nhttp://books.toscrape.com/catalogue/page-50.html\nhttp://books.toscrape.com/catalogue/page-50.html\nhttp://books.toscrape.com/catalogue/page-50.html\nhttp://books.toscrape.com/catalogue/page-50.html\nhttp://books.toscrape.com/catalogue/page-50.html\nhttp://books.toscrape.com/catalogue/page-50.html\nhttp://books.toscrape.com/catalogue/page-50.html\nhttp://books.toscrape.com/catalogue/page-50.html\nhttp://books.toscrape.com/catalogue/page-50.html\nhttp://books.toscrape.com/catalogue/page-50.html\nhttp://books.toscrape.com/catalogue/page-50.html\nhttp://books.toscrape.com/catalogue/page-50.html\nhttp://books.toscrape.com/catalogue/page-50.html\nhttp://books.toscrape.com/catalogue/page-50.html\nhttp://books.toscrape.com/catalogue/page-50.html\nhttp://books.toscrape.com/catalogue/page-50.html\nhttp://books.toscrape.com/catalogue/page-50.html\nhttp://books.toscrape.com/catalogue/page-50.html\nhttp://books.toscrape.com/catalogue/page-50.html\nhttp://books.toscrape.com/catalogue/page-50.html\nhttp://books.toscrape.com/catalogue/page-50.html\nhttp://books.toscrape.com/catalogue/page-50.html\nhttp://books.toscrape.com/catalogue/page-50.html\nhttp://books.toscrape.com/catalogue/page-50.html\nhttp://books.toscrape.com/catalogue/page-50.html\nhttp://books.toscrape.com/catalogue/page-50.html\nhttp://books.toscrape.com/catalogue/page-50.html\nhttp://books.toscrape.com/catalogue/page-50.html\nhttp://books.toscrape.com/catalogue/page-50.html\nhttp://books.toscrape.com/catalogue/page-50.html\nhttp://books.toscrape.com/catalogue/page-50.html\nhttp://books.toscrape.com/catalogue/page-50.html\nhttp://books.toscrape.com/catalogue/page-50.html\nhttp://books.toscrape.com/catalogue/page-50.html\nhttp://books.toscrape.com/catalogue/page-50.html\nhttp://books.toscrape.com/catalogue/page-50.html\nhttp://books.toscrape.com/catalogue/page-50.html\nhttp://books.toscrape.com/catalogue/page-50.html\nhttp://books.toscrape.com/catalogue/page-50.html\nhttp://books.toscrape.com/catalogue/page-50.html\nhttp://books.toscrape.com/catalogue/page-50.html\nhttp://books.toscrape.com/catalogue/page-50.html\nhttp://books.toscrape.com/catalogue/page-50.html\nhttp://books.toscrape.com/catalogue/page-50.html\nhttp://books.toscrape.com/catalogue/page-50.html\nhttp://books.toscrape.com/catalogue/page-50.html\nhttp://books.toscrape.com/catalogue/page-50.html\nhttp://books.toscrape.com/catalogue/page-50.html\nhttp://books.toscrape.com/catalogue/page-50.html\nhttp://books.toscrape.com/catalogue/page-50.html\nhttp://books.toscrape.com/catalogue/page-50.html\nhttp://books.toscrape.com/catalogue/page-50.html\nhttp://books.toscrape.com/catalogue/page-50.html\nhttp://books.toscrape.com/catalogue/page-50.html\nhttp://books.toscrape.com/catalogue/page-50.html\nhttp://books.toscrape.com/catalogue/page-50.html\nhttp://books.toscrape.com/catalogue/page-50.html\nhttp://books.toscrape.com/catalogue/page-50.html\nhttp://books.toscrape.com/catalogue/page-50.html\nhttp://books.toscrape.com/catalogue/page-50.html\nhttp://books.toscrape.com/catalogue/page-50.html\nhttp://books.toscrape.com/catalogue/page-50.html\nhttp://books.toscrape.com/catalogue/page-50.html\nhttp://books.toscrape.com/catalogue/page-50.html\nhttp://books.toscrape.com/catalogue/page-50.html\nhttp://books.toscrape.com/catalogue/page-50.html\nhttp://books.toscrape.com/catalogue/page-50.html\nhttp://books.toscrape.com/catalogue/page-50.html\nhttp://books.toscrape.com/catalogue/page-50.html\nhttp://books.toscrape.com/catalogue/page-50.html\nhttp://books.toscrape.com/catalogue/page-50.html\nhttp://books.toscrape.com/catalogue/page-50.html\nhttp://books.toscrape.com/catalogue/page-50.html\nhttp://books.toscrape.com/catalogue/page-50.html\nhttp://books.toscrape.com/catalogue/page-50.html\nhttp://books.toscrape.com/catalogue/page-50.html\nhttp://books.toscrape.com/catalogue/page-50.html\nhttp://books.toscrape.com/catalogue/page-50.html\nhttp://books.toscrape.com/catalogue/page-50.html\nhttp://books.toscrape.com/catalogue/page-50.html\nhttp://books.toscrape.com/catalogue/page-50.html\nhttp://books.toscrape.com/catalogue/page-50.html\nhttp://books.toscrape.com/catalogue/page-50.html\nhttp://books.toscrape.com/catalogue/page-50.html\nhttp://books.toscrape.com/catalogue/page-50.html\nhttp://books.toscrape.com/catalogue/page-50.html\nhttp://books.toscrape.com/catalogue/page-50.html\nhttp://books.toscrape.com/catalogue/page-50.html\nhttp://books.toscrape.com/catalogue/page-50.html\nhttp://books.toscrape.com/catalogue/page-50.html\nhttp://books.toscrape.com/catalogue/page-50.html\nhttp://books.toscrape.com/catalogue/page-50.html\nhttp://books.toscrape.com/catalogue/page-50.html\nhttp://books.toscrape.com/catalogue/page-50.html\nhttp://books.toscrape.com/catalogue/page-50.html\nhttp://books.toscrape.com/catalogue/page-50.html\nhttp://books.toscrape.com/catalogue/page-50.html\nhttp://books.toscrape.com/catalogue/page-50.html\nhttp://books.toscrape.com/catalogue/page-50.html\nhttp://books.toscrape.com/catalogue/page-50.html\nhttp://books.toscrape.com/catalogue/page-50.html\nhttp://books.toscrape.com/catalogue/page-50.html\nhttp://books.toscrape.com/catalogue/page-50.html\nhttp://books.toscrape.com/catalogue/page-50.html\nhttp://books.toscrape.com/catalogue/page-50.html\nhttp://books.toscrape.com/catalogue/page-50.html\nhttp://books.toscrape.com/catalogue/page-50.html\nhttp://books.toscrape.com/catalogue/page-50.html\nhttp://books.toscrape.com/catalogue/page-50.html\nhttp://books.toscrape.com/catalogue/page-50.html\nhttp://books.toscrape.com/catalogue/page-50.html\nhttp://books.toscrape.com/catalogue/page-50.html\nhttp://books.toscrape.com/catalogue/page-50.html\nhttp://books.toscrape.com/catalogue/page-50.html\nhttp://books.toscrape.com/catalogue/page-50.html\nhttp://books.toscrape.com/catalogue/page-50.html\nhttp://books.toscrape.com/catalogue/page-50.html\nhttp://books.toscrape.com/catalogue/page-50.html\nhttp://books.toscrape.com/catalogue/page-50.html\nhttp://books.toscrape.com/catalogue/page-50.html\nhttp://books.toscrape.com/catalogue/page-50.html\nhttp://books.toscrape.com/catalogue/page-50.html\nhttp://books.toscrape.com/catalogue/page-50.html\nhttp://books.toscrape.com/catalogue/page-50.html\nhttp://books.toscrape.com/catalogue/page-50.html\nhttp://books.toscrape.com/catalogue/page-50.html\nhttp://books.toscrape.com/catalogue/page-50.html\nhttp://books.toscrape.com/catalogue/page-50.html\nhttp://books.toscrape.com/catalogue/page-50.html\nhttp://books.toscrape.com/catalogue/page-50.html\nhttp://books.toscrape.com/catalogue/page-50.html\nhttp://books.toscrape.com/catalogue/page-50.html\nhttp://books.toscrape.com/catalogue/page-50.html\nhttp://books.toscrape.com/catalogue/page-50.html\nhttp://books.toscrape.com/catalogue/page-50.html\nhttp://books.toscrape.com/catalogue/page-50.html\nhttp://books.toscrape.com/catalogue/page-50.html\nhttp://books.toscrape.com/catalogue/page-50.html\nhttp://books.toscrape.com/catalogue/page-50.html\nhttp://books.toscrape.com/catalogue/page-50.html\nhttp://books.toscrape.com/catalogue/page-50.html\nhttp://books.toscrape.com/catalogue/page-50.html\nhttp://books.toscrape.com/catalogue/page-50.html\nhttp://books.toscrape.com/catalogue/page-50.html\nhttp://books.toscrape.com/catalogue/page-50.html\nhttp://books.toscrape.com/catalogue/page-50.html\nhttp://books.toscrape.com/catalogue/page-50.html\nhttp://books.toscrape.com/catalogue/page-50.html\nhttp://books.toscrape.com/catalogue/page-50.html\nhttp://books.toscrape.com/catalogue/page-50.html\nhttp://books.toscrape.com/catalogue/page-50.html\nhttp://books.toscrape.com/catalogue/page-50.html\nhttp://books.toscrape.com/catalogue/page-50.html\nhttp://books.toscrape.com/catalogue/page-50.html\nhttp://books.toscrape.com/catalogue/page-50.html\nhttp://books.toscrape.com/catalogue/page-50.html\nhttp://books.toscrape.com/catalogue/page-50.html\nhttp://books.toscrape.com/catalogue/page-50.html\nhttp://books.toscrape.com/catalogue/page-50.html\nhttp://books.toscrape.com/catalogue/page-50.html\nhttp://books.toscrape.com/catalogue/page-50.html\nhttp://books.toscrape.com/catalogue/page-50.html\nhttp://books.toscrape.com/catalogue/page-50.html\nhttp://books.toscrape.com/catalogue/page-50.html\nhttp://books.toscrape.com/catalogue/page-50.html\nhttp://books.toscrape.com/catalogue/page-50.html\nhttp://books.toscrape.com/catalogue/page-50.html\nhttp://books.toscrape.com/catalogue/page-50.html\nhttp://books.toscrape.com/catalogue/page-50.html\nhttp://books.toscrape.com/catalogue/page-50.html\nhttp://books.toscrape.com/catalogue/page-50.html\nhttp://books.toscrape.com/catalogue/page-50.html\nhttp://books.toscrape.com/catalogue/page-50.html\nhttp://books.toscrape.com/catalogue/page-50.html\nhttp://books.toscrape.com/catalogue/page-50.html\nhttp://books.toscrape.com/catalogue/page-50.html\nhttp://books.toscrape.com/catalogue/page-50.html\nhttp://books.toscrape.com/catalogue/page-50.html\nhttp://books.toscrape.com/catalogue/page-50.html\nhttp://books.toscrape.com/catalogue/page-50.html\nhttp://books.toscrape.com/catalogue/page-50.html\nhttp://books.toscrape.com/catalogue/page-50.html\nhttp://books.toscrape.com/catalogue/page-50.html\nhttp://books.toscrape.com/catalogue/page-50.html\nhttp://books.toscrape.com/catalogue/page-50.html\nhttp://books.toscrape.com/catalogue/page-50.html\nhttp://books.toscrape.com/catalogue/page-50.html\nhttp://books.toscrape.com/catalogue/page-50.html\nhttp://books.toscrape.com/catalogue/page-50.html\nhttp://books.toscrape.com/catalogue/page-50.html\nhttp://books.toscrape.com/catalogue/page-50.html\nhttp://books.toscrape.com/catalogue/page-50.html\nhttp://books.toscrape.com/catalogue/page-50.html\nhttp://books.toscrape.com/catalogue/page-50.html\nhttp://books.toscrape.com/catalogue/page-50.html\nhttp://books.toscrape.com/catalogue/page-50.html\nhttp://books.toscrape.com/catalogue/page-50.html\nhttp://books.toscrape.com/catalogue/page-50.html\nhttp://books.toscrape.com/catalogue/page-50.html\nhttp://books.toscrape.com/catalogue/page-50.html\nhttp://books.toscrape.com/catalogue/page-50.html\nhttp://books.toscrape.com/catalogue/page-50.html\nhttp://books.toscrape.com/catalogue/page-50.html\nhttp://books.toscrape.com/catalogue/page-50.html\nhttp://books.toscrape.com/catalogue/page-50.html\nhttp://books.toscrape.com/catalogue/page-50.html\nhttp://books.toscrape.com/catalogue/page-50.html\nhttp://books.toscrape.com/catalogue/page-50.html\nhttp://books.toscrape.com/catalogue/page-50.html\nhttp://books.toscrape.com/catalogue/page-50.html\nhttp://books.toscrape.com/catalogue/page-50.html\nhttp://books.toscrape.com/catalogue/page-50.html\nhttp://books.toscrape.com/catalogue/page-50.html\nhttp://books.toscrape.com/catalogue/page-50.html\nhttp://books.toscrape.com/catalogue/page-50.html\nhttp://books.toscrape.com/catalogue/page-50.html\nhttp://books.toscrape.com/catalogue/page-50.html\nhttp://books.toscrape.com/catalogue/page-50.html\nhttp://books.toscrape.com/catalogue/page-50.html\nhttp://books.toscrape.com/catalogue/page-50.html\nhttp://books.toscrape.com/catalogue/page-50.html\nhttp://books.toscrape.com/catalogue/page-50.html\nhttp://books.toscrape.com/catalogue/page-50.html\nhttp://books.toscrape.com/catalogue/page-50.html\nhttp://books.toscrape.com/catalogue/page-50.html\nhttp://books.toscrape.com/catalogue/page-50.html\nhttp://books.toscrape.com/catalogue/page-50.html\nhttp://books.toscrape.com/catalogue/page-50.html\nhttp://books.toscrape.com/catalogue/page-50.html\nhttp://books.toscrape.com/catalogue/page-50.html\nhttp://books.toscrape.com/catalogue/page-50.html\nhttp://books.toscrape.com/catalogue/page-50.html\nhttp://books.toscrape.com/catalogue/page-50.html\nhttp://books.toscrape.com/catalogue/page-50.html\nhttp://books.toscrape.com/catalogue/page-50.html\nhttp://books.toscrape.com/catalogue/page-50.html\nhttp://books.toscrape.com/catalogue/page-50.html\nhttp://books.toscrape.com/catalogue/page-50.html\nhttp://books.toscrape.com/catalogue/page-50.html\nhttp://books.toscrape.com/catalogue/page-50.html\nhttp://books.toscrape.com/catalogue/page-50.html\nhttp://books.toscrape.com/catalogue/page-50.html\nhttp://books.toscrape.com/catalogue/page-50.html\nhttp://books.toscrape.com/catalogue/page-50.html\nhttp://books.toscrape.com/catalogue/page-50.html\nhttp://books.toscrape.com/catalogue/page-50.html\nhttp://books.toscrape.com/catalogue/page-50.html\nhttp://books.toscrape.com/catalogue/page-50.html\nhttp://books.toscrape.com/catalogue/page-50.html\nhttp://books.toscrape.com/catalogue/page-50.html\nhttp://books.toscrape.com/catalogue/page-50.html\nhttp://books.toscrape.com/catalogue/page-50.html\nhttp://books.toscrape.com/catalogue/page-50.html\nhttp://books.toscrape.com/catalogue/page-50.html\nhttp://books.toscrape.com/catalogue/page-50.html\nhttp://books.toscrape.com/catalogue/page-50.html\nhttp://books.toscrape.com/catalogue/page-50.html\nhttp://books.toscrape.com/catalogue/page-50.html\nhttp://books.toscrape.com/catalogue/page-50.html\nhttp://books.toscrape.com/catalogue/page-50.html\nhttp://books.toscrape.com/catalogue/page-50.html\nhttp://books.toscrape.com/catalogue/page-50.html\nhttp://books.toscrape.com/catalogue/page-50.html\nhttp://books.toscrape.com/catalogue/page-50.html\nhttp://books.toscrape.com/catalogue/page-50.html\n"
    },
    {
     "output_type": "error",
     "ename": "KeyboardInterrupt",
     "evalue": "",
     "traceback": [
      "\u001b[1;31m---------------------------------------------------------------------------\u001b[0m",
      "\u001b[1;31mKeyboardInterrupt\u001b[0m                         Traceback (most recent call last)",
      "\u001b[1;32m&lt;ipython-input-70-50c53d06211f&gt;\u001b[0m in \u001b[0;36m&lt;module&gt;\u001b[1;34m\u001b[0m\n\u001b[0;32m      3\u001b[0m \u001b[0mnew_url\u001b[0m \u001b[1;33m=\u001b[0m \u001b[1;34m&#39;http://books.toscrape.com/&#39;\u001b[0m \u001b[1;33m+\u001b[0m\u001b[0msoup\u001b[0m\u001b[1;33m.\u001b[0m\u001b[0mfind\u001b[0m\u001b[1;33m(\u001b[0m\u001b[1;34m&quot;li&quot;\u001b[0m\u001b[1;33m,\u001b[0m \u001b[0mclass_\u001b[0m\u001b[1;33m=\u001b[0m\u001b[1;34m&quot;next&quot;\u001b[0m\u001b[1;33m)\u001b[0m\u001b[1;33m.\u001b[0m\u001b[0mfind\u001b[0m\u001b[1;33m(\u001b[0m\u001b[1;34m&#39;a&#39;\u001b[0m\u001b[1;33m)\u001b[0m\u001b[1;33m.\u001b[0m\u001b[0mget\u001b[0m\u001b[1;33m(\u001b[0m\u001b[1;34m&#39;href&#39;\u001b[0m\u001b[1;33m)\u001b[0m\u001b[1;33m\u001b[0m\u001b[1;33m\u001b[0m\u001b[0m\n\u001b[0;32m      4\u001b[0m \u001b[1;32mwhile\u001b[0m \u001b[0mnew_url\u001b[0m \u001b[1;33m!=\u001b[0m\u001b[1;34m&#39;&#39;\u001b[0m\u001b[1;33m:\u001b[0m\u001b[1;33m\u001b[0m\u001b[1;33m\u001b[0m\u001b[0m\n\u001b[1;32m----&gt; 5\u001b[1;33m     \u001b[0msource\u001b[0m \u001b[1;33m=\u001b[0m \u001b[0mrequests\u001b[0m\u001b[1;33m.\u001b[0m\u001b[0mget\u001b[0m\u001b[1;33m(\u001b[0m\u001b[0mnew_url\u001b[0m\u001b[1;33m)\u001b[0m\u001b[1;33m.\u001b[0m\u001b[0mtext\u001b[0m\u001b[1;33m\u001b[0m\u001b[1;33m\u001b[0m\u001b[0m\n\u001b[0m\u001b[0;32m      6\u001b[0m     \u001b[0mprint\u001b[0m\u001b[1;33m(\u001b[0m\u001b[0mnew_url\u001b[0m\u001b[1;33m)\u001b[0m\u001b[1;33m\u001b[0m\u001b[1;33m\u001b[0m\u001b[0m\n\u001b[0;32m      7\u001b[0m     \u001b[1;32mtry\u001b[0m\u001b[1;33m:\u001b[0m\u001b[1;33m\u001b[0m\u001b[1;33m\u001b[0m\u001b[0m\n",
      "\u001b[1;32m~\\AppData\\Local\\Programs\\Python\\Python37-32\\lib\\site-packages\\requests\\api.py\u001b[0m in \u001b[0;36mget\u001b[1;34m(url, params, **kwargs)\u001b[0m\n\u001b[0;32m     74\u001b[0m \u001b[1;33m\u001b[0m\u001b[0m\n\u001b[0;32m     75\u001b[0m     \u001b[0mkwargs\u001b[0m\u001b[1;33m.\u001b[0m\u001b[0msetdefault\u001b[0m\u001b[1;33m(\u001b[0m\u001b[1;34m&#39;allow_redirects&#39;\u001b[0m\u001b[1;33m,\u001b[0m \u001b[1;32mTrue\u001b[0m\u001b[1;33m)\u001b[0m\u001b[1;33m\u001b[0m\u001b[1;33m\u001b[0m\u001b[0m\n\u001b[1;32m---&gt; 76\u001b[1;33m     \u001b[1;32mreturn\u001b[0m \u001b[0mrequest\u001b[0m\u001b[1;33m(\u001b[0m\u001b[1;34m&#39;get&#39;\u001b[0m\u001b[1;33m,\u001b[0m \u001b[0murl\u001b[0m\u001b[1;33m,\u001b[0m \u001b[0mparams\u001b[0m\u001b[1;33m=\u001b[0m\u001b[0mparams\u001b[0m\u001b[1;33m,\u001b[0m \u001b[1;33m**\u001b[0m\u001b[0mkwargs\u001b[0m\u001b[1;33m)\u001b[0m\u001b[1;33m\u001b[0m\u001b[1;33m\u001b[0m\u001b[0m\n\u001b[0m\u001b[0;32m     77\u001b[0m \u001b[1;33m\u001b[0m\u001b[0m\n\u001b[0;32m     78\u001b[0m \u001b[1;33m\u001b[0m\u001b[0m\n",
      "\u001b[1;32m~\\AppData\\Local\\Programs\\Python\\Python37-32\\lib\\site-packages\\requests\\api.py\u001b[0m in \u001b[0;36mrequest\u001b[1;34m(method, url, **kwargs)\u001b[0m\n\u001b[0;32m     59\u001b[0m     \u001b[1;31m# cases, and look like a memory leak in others.\u001b[0m\u001b[1;33m\u001b[0m\u001b[1;33m\u001b[0m\u001b[1;33m\u001b[0m\u001b[0m\n\u001b[0;32m     60\u001b[0m     \u001b[1;32mwith\u001b[0m \u001b[0msessions\u001b[0m\u001b[1;33m.\u001b[0m\u001b[0mSession\u001b[0m\u001b[1;33m(\u001b[0m\u001b[1;33m)\u001b[0m \u001b[1;32mas\u001b[0m \u001b[0msession\u001b[0m\u001b[1;33m:\u001b[0m\u001b[1;33m\u001b[0m\u001b[1;33m\u001b[0m\u001b[0m\n\u001b[1;32m---&gt; 61\u001b[1;33m         \u001b[1;32mreturn\u001b[0m \u001b[0msession\u001b[0m\u001b[1;33m.\u001b[0m\u001b[0mrequest\u001b[0m\u001b[1;33m(\u001b[0m\u001b[0mmethod\u001b[0m\u001b[1;33m=\u001b[0m\u001b[0mmethod\u001b[0m\u001b[1;33m,\u001b[0m \u001b[0murl\u001b[0m\u001b[1;33m=\u001b[0m\u001b[0murl\u001b[0m\u001b[1;33m,\u001b[0m \u001b[1;33m**\u001b[0m\u001b[0mkwargs\u001b[0m\u001b[1;33m)\u001b[0m\u001b[1;33m\u001b[0m\u001b[1;33m\u001b[0m\u001b[0m\n\u001b[0m\u001b[0;32m     62\u001b[0m \u001b[1;33m\u001b[0m\u001b[0m\n\u001b[0;32m     63\u001b[0m \u001b[1;33m\u001b[0m\u001b[0m\n",
      "\u001b[1;32m~\\AppData\\Local\\Programs\\Python\\Python37-32\\lib\\site-packages\\requests\\sessions.py\u001b[0m in \u001b[0;36mrequest\u001b[1;34m(self, method, url, params, data, headers, cookies, files, auth, timeout, allow_redirects, proxies, hooks, stream, verify, cert, json)\u001b[0m\n\u001b[0;32m    528\u001b[0m         }\n\u001b[0;32m    529\u001b[0m         \u001b[0msend_kwargs\u001b[0m\u001b[1;33m.\u001b[0m\u001b[0mupdate\u001b[0m\u001b[1;33m(\u001b[0m\u001b[0msettings\u001b[0m\u001b[1;33m)\u001b[0m\u001b[1;33m\u001b[0m\u001b[1;33m\u001b[0m\u001b[0m\n\u001b[1;32m--&gt; 530\u001b[1;33m         \u001b[0mresp\u001b[0m \u001b[1;33m=\u001b[0m \u001b[0mself\u001b[0m\u001b[1;33m.\u001b[0m\u001b[0msend\u001b[0m\u001b[1;33m(\u001b[0m\u001b[0mprep\u001b[0m\u001b[1;33m,\u001b[0m \u001b[1;33m**\u001b[0m\u001b[0msend_kwargs\u001b[0m\u001b[1;33m)\u001b[0m\u001b[1;33m\u001b[0m\u001b[1;33m\u001b[0m\u001b[0m\n\u001b[0m\u001b[0;32m    531\u001b[0m \u001b[1;33m\u001b[0m\u001b[0m\n\u001b[0;32m    532\u001b[0m         \u001b[1;32mreturn\u001b[0m \u001b[0mresp\u001b[0m\u001b[1;33m\u001b[0m\u001b[1;33m\u001b[0m\u001b[0m\n",
      "\u001b[1;32m~\\AppData\\Local\\Programs\\Python\\Python37-32\\lib\\site-packages\\requests\\sessions.py\u001b[0m in \u001b[0;36msend\u001b[1;34m(self, request, **kwargs)\u001b[0m\n\u001b[0;32m    641\u001b[0m \u001b[1;33m\u001b[0m\u001b[0m\n\u001b[0;32m    642\u001b[0m         \u001b[1;31m# Send the request\u001b[0m\u001b[1;33m\u001b[0m\u001b[1;33m\u001b[0m\u001b[1;33m\u001b[0m\u001b[0m\n\u001b[1;32m--&gt; 643\u001b[1;33m         \u001b[0mr\u001b[0m \u001b[1;33m=\u001b[0m \u001b[0madapter\u001b[0m\u001b[1;33m.\u001b[0m\u001b[0msend\u001b[0m\u001b[1;33m(\u001b[0m\u001b[0mrequest\u001b[0m\u001b[1;33m,\u001b[0m \u001b[1;33m**\u001b[0m\u001b[0mkwargs\u001b[0m\u001b[1;33m)\u001b[0m\u001b[1;33m\u001b[0m\u001b[1;33m\u001b[0m\u001b[0m\n\u001b[0m\u001b[0;32m    644\u001b[0m \u001b[1;33m\u001b[0m\u001b[0m\n\u001b[0;32m    645\u001b[0m         \u001b[1;31m# Total elapsed time of the request (approximately)\u001b[0m\u001b[1;33m\u001b[0m\u001b[1;33m\u001b[0m\u001b[1;33m\u001b[0m\u001b[0m\n",
      "\u001b[1;32m~\\AppData\\Local\\Programs\\Python\\Python37-32\\lib\\site-packages\\requests\\adapters.py\u001b[0m in \u001b[0;36msend\u001b[1;34m(self, request, stream, timeout, verify, cert, proxies)\u001b[0m\n\u001b[0;32m    447\u001b[0m                     \u001b[0mdecode_content\u001b[0m\u001b[1;33m=\u001b[0m\u001b[1;32mFalse\u001b[0m\u001b[1;33m,\u001b[0m\u001b[1;33m\u001b[0m\u001b[1;33m\u001b[0m\u001b[0m\n\u001b[0;32m    448\u001b[0m                     \u001b[0mretries\u001b[0m\u001b[1;33m=\u001b[0m\u001b[0mself\u001b[0m\u001b[1;33m.\u001b[0m\u001b[0mmax_retries\u001b[0m\u001b[1;33m,\u001b[0m\u001b[1;33m\u001b[0m\u001b[1;33m\u001b[0m\u001b[0m\n\u001b[1;32m--&gt; 449\u001b[1;33m                     \u001b[0mtimeout\u001b[0m\u001b[1;33m=\u001b[0m\u001b[0mtimeout\u001b[0m\u001b[1;33m\u001b[0m\u001b[1;33m\u001b[0m\u001b[0m\n\u001b[0m\u001b[0;32m    450\u001b[0m                 )\n\u001b[0;32m    451\u001b[0m \u001b[1;33m\u001b[0m\u001b[0m\n",
      "\u001b[1;32m~\\AppData\\Local\\Programs\\Python\\Python37-32\\lib\\site-packages\\urllib3\\connectionpool.py\u001b[0m in \u001b[0;36murlopen\u001b[1;34m(self, method, url, body, headers, retries, redirect, assert_same_host, timeout, pool_timeout, release_conn, chunked, body_pos, **response_kw)\u001b[0m\n\u001b[0;32m    675\u001b[0m                 \u001b[0mbody\u001b[0m\u001b[1;33m=\u001b[0m\u001b[0mbody\u001b[0m\u001b[1;33m,\u001b[0m\u001b[1;33m\u001b[0m\u001b[1;33m\u001b[0m\u001b[0m\n\u001b[0;32m    676\u001b[0m                 \u001b[0mheaders\u001b[0m\u001b[1;33m=\u001b[0m\u001b[0mheaders\u001b[0m\u001b[1;33m,\u001b[0m\u001b[1;33m\u001b[0m\u001b[1;33m\u001b[0m\u001b[0m\n\u001b[1;32m--&gt; 677\u001b[1;33m                 \u001b[0mchunked\u001b[0m\u001b[1;33m=\u001b[0m\u001b[0mchunked\u001b[0m\u001b[1;33m,\u001b[0m\u001b[1;33m\u001b[0m\u001b[1;33m\u001b[0m\u001b[0m\n\u001b[0m\u001b[0;32m    678\u001b[0m             )\n\u001b[0;32m    679\u001b[0m \u001b[1;33m\u001b[0m\u001b[0m\n",
      "\u001b[1;32m~\\AppData\\Local\\Programs\\Python\\Python37-32\\lib\\site-packages\\urllib3\\connectionpool.py\u001b[0m in \u001b[0;36m_make_request\u001b[1;34m(self, conn, method, url, timeout, chunked, **httplib_request_kw)\u001b[0m\n\u001b[0;32m    424\u001b[0m                     \u001b[1;31m# Python 3 (including for exceptions like SystemExit).\u001b[0m\u001b[1;33m\u001b[0m\u001b[1;33m\u001b[0m\u001b[1;33m\u001b[0m\u001b[0m\n\u001b[0;32m    425\u001b[0m                     \u001b[1;31m# Otherwise it looks like a bug in the code.\u001b[0m\u001b[1;33m\u001b[0m\u001b[1;33m\u001b[0m\u001b[1;33m\u001b[0m\u001b[0m\n\u001b[1;32m--&gt; 426\u001b[1;33m                     \u001b[0msix\u001b[0m\u001b[1;33m.\u001b[0m\u001b[0mraise_from\u001b[0m\u001b[1;33m(\u001b[0m\u001b[0me\u001b[0m\u001b[1;33m,\u001b[0m \u001b[1;32mNone\u001b[0m\u001b[1;33m)\u001b[0m\u001b[1;33m\u001b[0m\u001b[1;33m\u001b[0m\u001b[0m\n\u001b[0m\u001b[0;32m    427\u001b[0m         \u001b[1;32mexcept\u001b[0m \u001b[1;33m(\u001b[0m\u001b[0mSocketTimeout\u001b[0m\u001b[1;33m,\u001b[0m \u001b[0mBaseSSLError\u001b[0m\u001b[1;33m,\u001b[0m \u001b[0mSocketError\u001b[0m\u001b[1;33m)\u001b[0m \u001b[1;32mas\u001b[0m \u001b[0me\u001b[0m\u001b[1;33m:\u001b[0m\u001b[1;33m\u001b[0m\u001b[1;33m\u001b[0m\u001b[0m\n\u001b[0;32m    428\u001b[0m             \u001b[0mself\u001b[0m\u001b[1;33m.\u001b[0m\u001b[0m_raise_timeout\u001b[0m\u001b[1;33m(\u001b[0m\u001b[0merr\u001b[0m\u001b[1;33m=\u001b[0m\u001b[0me\u001b[0m\u001b[1;33m,\u001b[0m \u001b[0murl\u001b[0m\u001b[1;33m=\u001b[0m\u001b[0murl\u001b[0m\u001b[1;33m,\u001b[0m \u001b[0mtimeout_value\u001b[0m\u001b[1;33m=\u001b[0m\u001b[0mread_timeout\u001b[0m\u001b[1;33m)\u001b[0m\u001b[1;33m\u001b[0m\u001b[1;33m\u001b[0m\u001b[0m\n",
      "\u001b[1;32m~\\AppData\\Local\\Programs\\Python\\Python37-32\\lib\\site-packages\\urllib3\\packages\\six.py\u001b[0m in \u001b[0;36mraise_from\u001b[1;34m(value, from_value)\u001b[0m\n",
      "\u001b[1;32m~\\AppData\\Local\\Programs\\Python\\Python37-32\\lib\\site-packages\\urllib3\\connectionpool.py\u001b[0m in \u001b[0;36m_make_request\u001b[1;34m(self, conn, method, url, timeout, chunked, **httplib_request_kw)\u001b[0m\n\u001b[0;32m    419\u001b[0m                 \u001b[1;31m# Python 3\u001b[0m\u001b[1;33m\u001b[0m\u001b[1;33m\u001b[0m\u001b[1;33m\u001b[0m\u001b[0m\n\u001b[0;32m    420\u001b[0m                 \u001b[1;32mtry\u001b[0m\u001b[1;33m:\u001b[0m\u001b[1;33m\u001b[0m\u001b[1;33m\u001b[0m\u001b[0m\n\u001b[1;32m--&gt; 421\u001b[1;33m                     \u001b[0mhttplib_response\u001b[0m \u001b[1;33m=\u001b[0m \u001b[0mconn\u001b[0m\u001b[1;33m.\u001b[0m\u001b[0mgetresponse\u001b[0m\u001b[1;33m(\u001b[0m\u001b[1;33m)\u001b[0m\u001b[1;33m\u001b[0m\u001b[1;33m\u001b[0m\u001b[0m\n\u001b[0m\u001b[0;32m    422\u001b[0m                 \u001b[1;32mexcept\u001b[0m \u001b[0mBaseException\u001b[0m \u001b[1;32mas\u001b[0m \u001b[0me\u001b[0m\u001b[1;33m:\u001b[0m\u001b[1;33m\u001b[0m\u001b[1;33m\u001b[0m\u001b[0m\n\u001b[0;32m    423\u001b[0m                     \u001b[1;31m# Remove the TypeError from the exception chain in\u001b[0m\u001b[1;33m\u001b[0m\u001b[1;33m\u001b[0m\u001b[1;33m\u001b[0m\u001b[0m\n",
      "\u001b[1;32m~\\AppData\\Local\\Programs\\Python\\Python37-32\\lib\\http\\client.py\u001b[0m in \u001b[0;36mgetresponse\u001b[1;34m(self)\u001b[0m\n\u001b[0;32m   1334\u001b[0m         \u001b[1;32mtry\u001b[0m\u001b[1;33m:\u001b[0m\u001b[1;33m\u001b[0m\u001b[1;33m\u001b[0m\u001b[0m\n\u001b[0;32m   1335\u001b[0m             \u001b[1;32mtry\u001b[0m\u001b[1;33m:\u001b[0m\u001b[1;33m\u001b[0m\u001b[1;33m\u001b[0m\u001b[0m\n\u001b[1;32m-&gt; 1336\u001b[1;33m                 \u001b[0mresponse\u001b[0m\u001b[1;33m.\u001b[0m\u001b[0mbegin\u001b[0m\u001b[1;33m(\u001b[0m\u001b[1;33m)\u001b[0m\u001b[1;33m\u001b[0m\u001b[1;33m\u001b[0m\u001b[0m\n\u001b[0m\u001b[0;32m   1337\u001b[0m             \u001b[1;32mexcept\u001b[0m \u001b[0mConnectionError\u001b[0m\u001b[1;33m:\u001b[0m\u001b[1;33m\u001b[0m\u001b[1;33m\u001b[0m\u001b[0m\n\u001b[0;32m   1338\u001b[0m                 \u001b[0mself\u001b[0m\u001b[1;33m.\u001b[0m\u001b[0mclose\u001b[0m\u001b[1;33m(\u001b[0m\u001b[1;33m)\u001b[0m\u001b[1;33m\u001b[0m\u001b[1;33m\u001b[0m\u001b[0m\n",
      "\u001b[1;32m~\\AppData\\Local\\Programs\\Python\\Python37-32\\lib\\http\\client.py\u001b[0m in \u001b[0;36mbegin\u001b[1;34m(self)\u001b[0m\n\u001b[0;32m    304\u001b[0m         \u001b[1;31m# read until we get a non-100 response\u001b[0m\u001b[1;33m\u001b[0m\u001b[1;33m\u001b[0m\u001b[1;33m\u001b[0m\u001b[0m\n\u001b[0;32m    305\u001b[0m         \u001b[1;32mwhile\u001b[0m \u001b[1;32mTrue\u001b[0m\u001b[1;33m:\u001b[0m\u001b[1;33m\u001b[0m\u001b[1;33m\u001b[0m\u001b[0m\n\u001b[1;32m--&gt; 306\u001b[1;33m             \u001b[0mversion\u001b[0m\u001b[1;33m,\u001b[0m \u001b[0mstatus\u001b[0m\u001b[1;33m,\u001b[0m \u001b[0mreason\u001b[0m \u001b[1;33m=\u001b[0m \u001b[0mself\u001b[0m\u001b[1;33m.\u001b[0m\u001b[0m_read_status\u001b[0m\u001b[1;33m(\u001b[0m\u001b[1;33m)\u001b[0m\u001b[1;33m\u001b[0m\u001b[1;33m\u001b[0m\u001b[0m\n\u001b[0m\u001b[0;32m    307\u001b[0m             \u001b[1;32mif\u001b[0m \u001b[0mstatus\u001b[0m \u001b[1;33m!=\u001b[0m \u001b[0mCONTINUE\u001b[0m\u001b[1;33m:\u001b[0m\u001b[1;33m\u001b[0m\u001b[1;33m\u001b[0m\u001b[0m\n\u001b[0;32m    308\u001b[0m                 \u001b[1;32mbreak\u001b[0m\u001b[1;33m\u001b[0m\u001b[1;33m\u001b[0m\u001b[0m\n",
      "\u001b[1;32m~\\AppData\\Local\\Programs\\Python\\Python37-32\\lib\\http\\client.py\u001b[0m in \u001b[0;36m_read_status\u001b[1;34m(self)\u001b[0m\n\u001b[0;32m    265\u001b[0m \u001b[1;33m\u001b[0m\u001b[0m\n\u001b[0;32m    266\u001b[0m     \u001b[1;32mdef\u001b[0m \u001b[0m_read_status\u001b[0m\u001b[1;33m(\u001b[0m\u001b[0mself\u001b[0m\u001b[1;33m)\u001b[0m\u001b[1;33m:\u001b[0m\u001b[1;33m\u001b[0m\u001b[1;33m\u001b[0m\u001b[0m\n\u001b[1;32m--&gt; 267\u001b[1;33m         \u001b[0mline\u001b[0m \u001b[1;33m=\u001b[0m \u001b[0mstr\u001b[0m\u001b[1;33m(\u001b[0m\u001b[0mself\u001b[0m\u001b[1;33m.\u001b[0m\u001b[0mfp\u001b[0m\u001b[1;33m.\u001b[0m\u001b[0mreadline\u001b[0m\u001b[1;33m(\u001b[0m\u001b[0m_MAXLINE\u001b[0m \u001b[1;33m+\u001b[0m \u001b[1;36m1\u001b[0m\u001b[1;33m)\u001b[0m\u001b[1;33m,\u001b[0m \u001b[1;34m&quot;iso-8859-1&quot;\u001b[0m\u001b[1;33m)\u001b[0m\u001b[1;33m\u001b[0m\u001b[1;33m\u001b[0m\u001b[0m\n\u001b[0m\u001b[0;32m    268\u001b[0m         \u001b[1;32mif\u001b[0m \u001b[0mlen\u001b[0m\u001b[1;33m(\u001b[0m\u001b[0mline\u001b[0m\u001b[1;33m)\u001b[0m \u001b[1;33m&gt;\u001b[0m \u001b[0m_MAXLINE\u001b[0m\u001b[1;33m:\u001b[0m\u001b[1;33m\u001b[0m\u001b[1;33m\u001b[0m\u001b[0m\n\u001b[0;32m    269\u001b[0m             \u001b[1;32mraise\u001b[0m \u001b[0mLineTooLong\u001b[0m\u001b[1;33m(\u001b[0m\u001b[1;34m&quot;status line&quot;\u001b[0m\u001b[1;33m)\u001b[0m\u001b[1;33m\u001b[0m\u001b[1;33m\u001b[0m\u001b[0m\n",
      "\u001b[1;32m~\\AppData\\Local\\Programs\\Python\\Python37-32\\lib\\socket.py\u001b[0m in \u001b[0;36mreadinto\u001b[1;34m(self, b)\u001b[0m\n\u001b[0;32m    587\u001b[0m         \u001b[1;32mwhile\u001b[0m \u001b[1;32mTrue\u001b[0m\u001b[1;33m:\u001b[0m\u001b[1;33m\u001b[0m\u001b[1;33m\u001b[0m\u001b[0m\n\u001b[0;32m    588\u001b[0m             \u001b[1;32mtry\u001b[0m\u001b[1;33m:\u001b[0m\u001b[1;33m\u001b[0m\u001b[1;33m\u001b[0m\u001b[0m\n\u001b[1;32m--&gt; 589\u001b[1;33m                 \u001b[1;32mreturn\u001b[0m \u001b[0mself\u001b[0m\u001b[1;33m.\u001b[0m\u001b[0m_sock\u001b[0m\u001b[1;33m.\u001b[0m\u001b[0mrecv_into\u001b[0m\u001b[1;33m(\u001b[0m\u001b[0mb\u001b[0m\u001b[1;33m)\u001b[0m\u001b[1;33m\u001b[0m\u001b[1;33m\u001b[0m\u001b[0m\n\u001b[0m\u001b[0;32m    590\u001b[0m             \u001b[1;32mexcept\u001b[0m \u001b[0mtimeout\u001b[0m\u001b[1;33m:\u001b[0m\u001b[1;33m\u001b[0m\u001b[1;33m\u001b[0m\u001b[0m\n\u001b[0;32m    591\u001b[0m                 \u001b[0mself\u001b[0m\u001b[1;33m.\u001b[0m\u001b[0m_timeout_occurred\u001b[0m \u001b[1;33m=\u001b[0m \u001b[1;32mTrue\u001b[0m\u001b[1;33m\u001b[0m\u001b[1;33m\u001b[0m\u001b[0m\n",
      "\u001b[1;31mKeyboardInterrupt\u001b[0m: "
     ]
    }
   ],
   "source": [
    "source = requests.get(url).text\n",
    "soup = BeautifulSoup(source, \"lxml\")\n",
    "new_url = 'http://books.toscrape.com/' +soup.find(\"li\", class_=\"next\").find('a').get('href')\n",
    "while new_url !='':\n",
    "    source = requests.get(new_url).text\n",
    "    print(new_url)\n",
    "    try:\n",
    "        sopa = BeautifulSoup(source, \"lxml\").find(\"li\", class_=\"next\").find('a').get('href')\n",
    "    except:\n",
    "        sope = ''\n",
    "    new_url = 'http://books.toscrape.com/catalogue/' + sopa\n",
    "    # print(new_url)\n",
    "\n"
   ]
  },
  {
   "cell_type": "code",
   "execution_count": 58,
   "metadata": {},
   "outputs": [
    {
     "output_type": "execute_result",
     "data": {
      "text/plain": "&#39;http://books.toscrape.com/&#39;"
     },
     "metadata": {},
     "execution_count": 58
    }
   ],
   "source": [
    "url"
   ]
  },
  {
   "cell_type": "code",
   "execution_count": null,
   "metadata": {},
   "outputs": [],
   "source": []
  }
 ]
}